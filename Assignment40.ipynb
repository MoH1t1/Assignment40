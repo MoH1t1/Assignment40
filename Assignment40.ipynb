{
  "metadata": {
    "kernelspec": {
      "name": "python",
      "display_name": "Python (Pyodide)",
      "language": "python"
    },
    "language_info": {
      "codemirror_mode": {
        "name": "python",
        "version": 3
      },
      "file_extension": ".py",
      "mimetype": "text/x-python",
      "name": "python",
      "nbconvert_exporter": "python",
      "pygments_lexer": "ipython3",
      "version": "3.8"
    }
  },
  "nbformat_minor": 4,
  "nbformat": 4,
  "cells": [
    {
      "cell_type": "code",
      "source": "# Q1. What is data encoding? How is it useful in data science?\n\nData encoding is the process of converting categorical data into numerical format so that machine learning algorithms can process it. \nIt is useful because most algorithms require numerical inputs to perform calculations, making encoding essential for working with categorical data.\n                                                                                                                                                                                                                                                     \n# Q2. What is nominal encoding? Provide an example of how you would use it in a real-world scenario.\n                                                                                                                                                                                                                                                      \nNominal encoding is a type of encoding used for categorical data where each unique category is assigned an integer value, without any ordering.                                                                                                                                                                                                                                        \nExample: For a \"Color\" feature with values [\"Red\", \"Green\", \"Blue\"], nominal encoding would assign:\n\nRed = 0\nGreen = 1\nBlue = 2\n\n# Q3. In what situations is nominal encoding preferred over one-hot encoding? Provide a practical example.\n\nNominal encoding is preferred when the categorical variable has many unique values, and one-hot encoding would result in a large number of columns, \nincreasing computational complexity. Example: For a \"Country\" feature with 100 unique countries, nominal encoding would use a single column with integer \nvalues instead of creating 100 binary columns as in one-hot encoding.\n    \n# Q4. Suppose you have a dataset containing categorical data with 5 unique values. Which encoding\n# technique would you use to transform this data into a format suitable for machine learning algorithms? Explain why you made this choice.\n\nFor 5 unique values, one-hot encoding is generally preferred, as it avoids assigning any unintended ordinal relationship between categories. \nIt creates a binary column for each category and avoids the model assuming one category is \"greater\" or \"lesser\" than another.\n\n# Q5. In a machine learning project, you have a dataset with 1000 rows and 5 columns. Two of the columns\n# are categorical, and the remaining three columns are numerical. If you were to use nominal encoding to\n# transform the categorical data, how many new columns would be created? Show your calculations.\n\nWith nominal encoding, each unique value in a categorical column is assigned an integer. For two categorical columns with 5 unique values each, we would have:\n5 unique categories in the first column → 1 new column (nominal encoding assigns 1 integer per category).\n5 unique categories in the second column → 1 new column.\nSo, 2 new columns would be created using nominal encoding.\n\n# Q6. You are working with a dataset containing information about different types of animals, including their\n# species, habitat, and diet. Which encoding technique would you use to transform the categorical data into\n# a format suitable for machine learning algorithms? Justify your answer.\n\nFor categorical features like \"species\", \"habitat\", and \"diet\", one-hot encoding would be preferred because these categories do not have an inherent order.\nOne-hot encoding will create separate binary columns for each category, allowing the model to treat them as independent features.\n\n# Q7.You are working on a project that involves predicting customer churn for a telecommunications\n# company. You have a dataset with 5 features, including the customer's gender, age, contract type,\n# monthly charges, and tenure. Which encoding technique(s) would you use to transform the categorical\n# data into numerical data? Provide a step-by-step explanation of how you would implement the encoding.\n\nFor the gender and contract type columns:\nGender: Use binary encoding (0 for male, 1 for female) because there are only two categories.\nContract type: Use one-hot encoding since it has more than two categories (e.g., \"Month-to-month\", \"One-year\", \"Two-year\").\nSteps:\n\nFor gender, replace \"male\" with 0 and \"female\" with 1.\nFor contract type, create separate columns for each contract type (e.g., \"Month-to-month\", \"One-year\", \"Two-year\") and assign binary values for each row based on the contract type.\n",
      "metadata": {
        "trusted": true
      },
      "outputs": [],
      "execution_count": null
    }
  ]
}